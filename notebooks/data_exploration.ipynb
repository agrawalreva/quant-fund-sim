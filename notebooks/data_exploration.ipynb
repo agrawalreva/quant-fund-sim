{
  "cells": [
    {
      "cell_type": "markdown",
      "metadata": {},
      "source": [
        "# Data Exploration Notebook\n",
        "\n",
        "This notebook is for exploring and understanding the data before building strategies.\n",
        "Not for production use - exploration only.\n"
      ]
    },
    {
      "cell_type": "code",
      "execution_count": null,
      "metadata": {},
      "outputs": [],
      "source": [
        "# Import required libraries\n",
        "import sys\n",
        "sys.path.append('../src')\n",
        "\n",
        "import pandas as pd\n",
        "import numpy as np\n",
        "import matplotlib.pyplot as plt\n",
        "import seaborn as sns\n",
        "from data_ingestion import DataIngestion\n",
        "\n",
        "# Set up plotting\n",
        "plt.style.use('seaborn-v0_8')\n",
        "sns.set_palette(\"husl\")\n"
      ]
    },
    {
      "cell_type": "code",
      "execution_count": null,
      "metadata": {},
      "outputs": [],
      "source": [
        "# Initialize data ingestion\n",
        "data_ingestion = DataIngestion()\n",
        "\n",
        "# Define symbols for exploration\n",
        "symbols = ['AAPL', 'MSFT', 'GOOGL', 'AMZN', 'TSLA', 'NVDA']\n",
        "start_date = '2020-01-01'\n",
        "end_date = '2023-12-31'\n",
        "\n",
        "# Fetch data\n",
        "equity_data = data_ingestion.get_equity_data(symbols, start_date, end_date)\n",
        "clean_data = data_ingestion.clean_price_data(equity_data)\n",
        "\n",
        "print(f\"Data shape: {clean_data.shape}\")\n",
        "print(f\"Date range: {clean_data.index.min()} to {clean_data.index.max()}\")\n",
        "clean_data.head()\n"
      ]
    }
  ],
  "metadata": {
    "language_info": {
      "name": "python"
    }
  },
  "nbformat": 4,
  "nbformat_minor": 2
}
